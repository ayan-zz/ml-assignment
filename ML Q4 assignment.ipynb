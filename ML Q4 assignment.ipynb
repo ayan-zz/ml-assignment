{
 "cells": [
  {
   "cell_type": "code",
   "execution_count": 1,
   "id": "153262d7",
   "metadata": {},
   "outputs": [],
   "source": [
    "import warnings\n",
    "import numpy as np\n",
    "import pandas as pd\n",
    "import json\n",
    "import requests\n",
    "import seaborn as sns\n",
    "warnings.filterwarnings('ignore')\n",
    "import matplotlib.pyplot as plt\n",
    "%matplotlib inline"
   ]
  },
  {
   "cell_type": "code",
   "execution_count": 2,
   "id": "f6995deb",
   "metadata": {},
   "outputs": [
    {
     "data": {
      "text/html": [
       "<div>\n",
       "<style scoped>\n",
       "    .dataframe tbody tr th:only-of-type {\n",
       "        vertical-align: middle;\n",
       "    }\n",
       "\n",
       "    .dataframe tbody tr th {\n",
       "        vertical-align: top;\n",
       "    }\n",
       "\n",
       "    .dataframe thead th {\n",
       "        text-align: right;\n",
       "    }\n",
       "</style>\n",
       "<table border=\"1\" class=\"dataframe\">\n",
       "  <thead>\n",
       "    <tr style=\"text-align: right;\">\n",
       "      <th></th>\n",
       "      <th>Administrative</th>\n",
       "      <th>Administrative_Duration</th>\n",
       "      <th>Informational</th>\n",
       "      <th>Informational_Duration</th>\n",
       "      <th>ProductRelated</th>\n",
       "      <th>ProductRelated_Duration</th>\n",
       "      <th>BounceRates</th>\n",
       "      <th>ExitRates</th>\n",
       "      <th>PageValues</th>\n",
       "      <th>SpecialDay</th>\n",
       "      <th>Month</th>\n",
       "      <th>OperatingSystems</th>\n",
       "      <th>Browser</th>\n",
       "      <th>Region</th>\n",
       "      <th>TrafficType</th>\n",
       "      <th>VisitorType</th>\n",
       "      <th>Weekend</th>\n",
       "      <th>Revenue</th>\n",
       "    </tr>\n",
       "  </thead>\n",
       "  <tbody>\n",
       "    <tr>\n",
       "      <th>0</th>\n",
       "      <td>0</td>\n",
       "      <td>0.0</td>\n",
       "      <td>0</td>\n",
       "      <td>0.0</td>\n",
       "      <td>1</td>\n",
       "      <td>0.000000</td>\n",
       "      <td>0.20</td>\n",
       "      <td>0.20</td>\n",
       "      <td>0.0</td>\n",
       "      <td>0.0</td>\n",
       "      <td>Feb</td>\n",
       "      <td>1</td>\n",
       "      <td>1</td>\n",
       "      <td>1</td>\n",
       "      <td>1</td>\n",
       "      <td>Returning_Visitor</td>\n",
       "      <td>False</td>\n",
       "      <td>False</td>\n",
       "    </tr>\n",
       "    <tr>\n",
       "      <th>1</th>\n",
       "      <td>0</td>\n",
       "      <td>0.0</td>\n",
       "      <td>0</td>\n",
       "      <td>0.0</td>\n",
       "      <td>2</td>\n",
       "      <td>64.000000</td>\n",
       "      <td>0.00</td>\n",
       "      <td>0.10</td>\n",
       "      <td>0.0</td>\n",
       "      <td>0.0</td>\n",
       "      <td>Feb</td>\n",
       "      <td>2</td>\n",
       "      <td>2</td>\n",
       "      <td>1</td>\n",
       "      <td>2</td>\n",
       "      <td>Returning_Visitor</td>\n",
       "      <td>False</td>\n",
       "      <td>False</td>\n",
       "    </tr>\n",
       "    <tr>\n",
       "      <th>2</th>\n",
       "      <td>0</td>\n",
       "      <td>0.0</td>\n",
       "      <td>0</td>\n",
       "      <td>0.0</td>\n",
       "      <td>1</td>\n",
       "      <td>0.000000</td>\n",
       "      <td>0.20</td>\n",
       "      <td>0.20</td>\n",
       "      <td>0.0</td>\n",
       "      <td>0.0</td>\n",
       "      <td>Feb</td>\n",
       "      <td>4</td>\n",
       "      <td>1</td>\n",
       "      <td>9</td>\n",
       "      <td>3</td>\n",
       "      <td>Returning_Visitor</td>\n",
       "      <td>False</td>\n",
       "      <td>False</td>\n",
       "    </tr>\n",
       "    <tr>\n",
       "      <th>3</th>\n",
       "      <td>0</td>\n",
       "      <td>0.0</td>\n",
       "      <td>0</td>\n",
       "      <td>0.0</td>\n",
       "      <td>2</td>\n",
       "      <td>2.666667</td>\n",
       "      <td>0.05</td>\n",
       "      <td>0.14</td>\n",
       "      <td>0.0</td>\n",
       "      <td>0.0</td>\n",
       "      <td>Feb</td>\n",
       "      <td>3</td>\n",
       "      <td>2</td>\n",
       "      <td>2</td>\n",
       "      <td>4</td>\n",
       "      <td>Returning_Visitor</td>\n",
       "      <td>False</td>\n",
       "      <td>False</td>\n",
       "    </tr>\n",
       "    <tr>\n",
       "      <th>4</th>\n",
       "      <td>0</td>\n",
       "      <td>0.0</td>\n",
       "      <td>0</td>\n",
       "      <td>0.0</td>\n",
       "      <td>10</td>\n",
       "      <td>627.500000</td>\n",
       "      <td>0.02</td>\n",
       "      <td>0.05</td>\n",
       "      <td>0.0</td>\n",
       "      <td>0.0</td>\n",
       "      <td>Feb</td>\n",
       "      <td>3</td>\n",
       "      <td>3</td>\n",
       "      <td>1</td>\n",
       "      <td>4</td>\n",
       "      <td>Returning_Visitor</td>\n",
       "      <td>True</td>\n",
       "      <td>False</td>\n",
       "    </tr>\n",
       "  </tbody>\n",
       "</table>\n",
       "</div>"
      ],
      "text/plain": [
       "   Administrative  Administrative_Duration  Informational  \\\n",
       "0               0                      0.0              0   \n",
       "1               0                      0.0              0   \n",
       "2               0                      0.0              0   \n",
       "3               0                      0.0              0   \n",
       "4               0                      0.0              0   \n",
       "\n",
       "   Informational_Duration  ProductRelated  ProductRelated_Duration  \\\n",
       "0                     0.0               1                 0.000000   \n",
       "1                     0.0               2                64.000000   \n",
       "2                     0.0               1                 0.000000   \n",
       "3                     0.0               2                 2.666667   \n",
       "4                     0.0              10               627.500000   \n",
       "\n",
       "   BounceRates  ExitRates  PageValues  SpecialDay Month  OperatingSystems  \\\n",
       "0         0.20       0.20         0.0         0.0   Feb                 1   \n",
       "1         0.00       0.10         0.0         0.0   Feb                 2   \n",
       "2         0.20       0.20         0.0         0.0   Feb                 4   \n",
       "3         0.05       0.14         0.0         0.0   Feb                 3   \n",
       "4         0.02       0.05         0.0         0.0   Feb                 3   \n",
       "\n",
       "   Browser  Region  TrafficType        VisitorType  Weekend  Revenue  \n",
       "0        1       1            1  Returning_Visitor    False    False  \n",
       "1        2       1            2  Returning_Visitor    False    False  \n",
       "2        1       9            3  Returning_Visitor    False    False  \n",
       "3        2       2            4  Returning_Visitor    False    False  \n",
       "4        3       1            4  Returning_Visitor     True    False  "
      ]
     },
     "execution_count": 2,
     "metadata": {},
     "output_type": "execute_result"
    }
   ],
   "source": [
    "data=pd.read_csv('online_shoppers_intention.csv')\n",
    "data.head()"
   ]
  },
  {
   "cell_type": "code",
   "execution_count": 3,
   "id": "e0ef1d37",
   "metadata": {},
   "outputs": [
    {
     "data": {
      "text/plain": [
       "Administrative             0\n",
       "Administrative_Duration    0\n",
       "Informational              0\n",
       "Informational_Duration     0\n",
       "ProductRelated             0\n",
       "ProductRelated_Duration    0\n",
       "BounceRates                0\n",
       "ExitRates                  0\n",
       "PageValues                 0\n",
       "SpecialDay                 0\n",
       "Month                      0\n",
       "OperatingSystems           0\n",
       "Browser                    0\n",
       "Region                     0\n",
       "TrafficType                0\n",
       "VisitorType                0\n",
       "Weekend                    0\n",
       "Revenue                    0\n",
       "dtype: int64"
      ]
     },
     "execution_count": 3,
     "metadata": {},
     "output_type": "execute_result"
    }
   ],
   "source": [
    "data.isna().sum()"
   ]
  },
  {
   "cell_type": "code",
   "execution_count": 4,
   "id": "e8c4677e",
   "metadata": {},
   "outputs": [
    {
     "name": "stdout",
     "output_type": "stream",
     "text": [
      "<class 'pandas.core.frame.DataFrame'>\n",
      "RangeIndex: 12330 entries, 0 to 12329\n",
      "Data columns (total 18 columns):\n",
      " #   Column                   Non-Null Count  Dtype  \n",
      "---  ------                   --------------  -----  \n",
      " 0   Administrative           12330 non-null  int64  \n",
      " 1   Administrative_Duration  12330 non-null  float64\n",
      " 2   Informational            12330 non-null  int64  \n",
      " 3   Informational_Duration   12330 non-null  float64\n",
      " 4   ProductRelated           12330 non-null  int64  \n",
      " 5   ProductRelated_Duration  12330 non-null  float64\n",
      " 6   BounceRates              12330 non-null  float64\n",
      " 7   ExitRates                12330 non-null  float64\n",
      " 8   PageValues               12330 non-null  float64\n",
      " 9   SpecialDay               12330 non-null  float64\n",
      " 10  Month                    12330 non-null  object \n",
      " 11  OperatingSystems         12330 non-null  int64  \n",
      " 12  Browser                  12330 non-null  int64  \n",
      " 13  Region                   12330 non-null  int64  \n",
      " 14  TrafficType              12330 non-null  int64  \n",
      " 15  VisitorType              12330 non-null  object \n",
      " 16  Weekend                  12330 non-null  bool   \n",
      " 17  Revenue                  12330 non-null  bool   \n",
      "dtypes: bool(2), float64(7), int64(7), object(2)\n",
      "memory usage: 1.5+ MB\n"
     ]
    }
   ],
   "source": [
    "data.info()"
   ]
  },
  {
   "cell_type": "code",
   "execution_count": 5,
   "id": "04fdfcbd",
   "metadata": {},
   "outputs": [],
   "source": [
    "df=data.copy()\n",
    "df1=data.iloc[:,:-1]"
   ]
  },
  {
   "cell_type": "code",
   "execution_count": 6,
   "id": "a3ff6d0d",
   "metadata": {},
   "outputs": [
    {
     "name": "stdout",
     "output_type": "stream",
     "text": [
      "categorical columns: ['Month', 'VisitorType']\n",
      "numerical columns: ['Administrative', 'Administrative_Duration', 'Informational', 'Informational_Duration', 'ProductRelated', 'ProductRelated_Duration', 'BounceRates', 'ExitRates', 'PageValues', 'SpecialDay', 'OperatingSystems', 'Browser', 'Region', 'TrafficType', 'Weekend']\n",
      "Target column: Revenue\n"
     ]
    }
   ],
   "source": [
    "data_col=[feature for feature in df1.columns if df1[feature].dtype=='O']\n",
    "data_num=[feature for feature in df1.columns if df1[feature].dtype!='O']\n",
    "print(f'categorical columns: {data_col}')\n",
    "print(f'numerical columns: {data_num}')\n",
    "print('Target column: Revenue')"
   ]
  },
  {
   "cell_type": "code",
   "execution_count": 7,
   "id": "1f20c49f",
   "metadata": {},
   "outputs": [
    {
     "name": "stdout",
     "output_type": "stream",
     "text": [
      "May     3364\n",
      "Nov     2998\n",
      "Mar     1907\n",
      "Dec     1727\n",
      "Oct      549\n",
      "Sep      448\n",
      "Aug      433\n",
      "Jul      432\n",
      "June     288\n",
      "Feb      184\n",
      "Name: Month, dtype: int64\n",
      "========================\n",
      "Returning_Visitor    10551\n",
      "New_Visitor           1694\n",
      "Other                   85\n",
      "Name: VisitorType, dtype: int64\n"
     ]
    }
   ],
   "source": [
    "print(df['Month'].value_counts())\n",
    "print('='*24)\n",
    "print(df['VisitorType'].value_counts())"
   ]
  },
  {
   "cell_type": "code",
   "execution_count": 8,
   "id": "68f768f0",
   "metadata": {},
   "outputs": [
    {
     "data": {
      "text/plain": [
       "False    10422\n",
       "True      1908\n",
       "Name: Revenue, dtype: int64"
      ]
     },
     "execution_count": 8,
     "metadata": {},
     "output_type": "execute_result"
    }
   ],
   "source": [
    "df['Revenue'].value_counts()"
   ]
  },
  {
   "cell_type": "code",
   "execution_count": 33,
   "id": "56903488",
   "metadata": {},
   "outputs": [],
   "source": [
    "from sklearn.preprocessing import LabelEncoder,StandardScaler,OneHotEncoder\n",
    "from sklearn.pipeline import Pipeline\n",
    "from sklearn.compose import ColumnTransformer\n",
    "from sklearn.impute import SimpleImputer\n",
    "from sklearn.ensemble import RandomForestClassifier,GradientBoostingClassifier\n",
    "from sklearn.metrics import accuracy_score,classification_report\n",
    "from sklearn.model_selection import train_test_split,GridSearchCV"
   ]
  },
  {
   "cell_type": "code",
   "execution_count": 10,
   "id": "03f48c94",
   "metadata": {},
   "outputs": [],
   "source": [
    "le=LabelEncoder()\n",
    "df['Revenue']=le.fit_transform(df['Revenue'])"
   ]
  },
  {
   "cell_type": "code",
   "execution_count": 11,
   "id": "c0ab8607",
   "metadata": {},
   "outputs": [
    {
     "data": {
      "text/plain": [
       "0    10422\n",
       "1     1908\n",
       "Name: Revenue, dtype: int64"
      ]
     },
     "execution_count": 11,
     "metadata": {},
     "output_type": "execute_result"
    }
   ],
   "source": [
    "df['Revenue'].value_counts()"
   ]
  },
  {
   "cell_type": "code",
   "execution_count": 15,
   "id": "e3fdf98a",
   "metadata": {},
   "outputs": [],
   "source": [
    "X=df.iloc[:,:-1]\n",
    "y=df['Revenue']"
   ]
  },
  {
   "cell_type": "code",
   "execution_count": 19,
   "id": "661b50c2",
   "metadata": {},
   "outputs": [
    {
     "data": {
      "text/plain": [
       "(12330, 17)"
      ]
     },
     "execution_count": 19,
     "metadata": {},
     "output_type": "execute_result"
    }
   ],
   "source": [
    "X.shape"
   ]
  },
  {
   "cell_type": "code",
   "execution_count": 20,
   "id": "40e4ae81",
   "metadata": {},
   "outputs": [
    {
     "data": {
      "text/plain": [
       "(12330,)"
      ]
     },
     "execution_count": 20,
     "metadata": {},
     "output_type": "execute_result"
    }
   ],
   "source": [
    "y.shape"
   ]
  },
  {
   "cell_type": "code",
   "execution_count": 16,
   "id": "fb21c11d",
   "metadata": {},
   "outputs": [],
   "source": [
    "X_train,X_test,y_train,y_test=train_test_split(X,y,test_size=.20,random_state=35)"
   ]
  },
  {
   "cell_type": "code",
   "execution_count": 21,
   "id": "4ab8fb7a",
   "metadata": {},
   "outputs": [
    {
     "name": "stdout",
     "output_type": "stream",
     "text": [
      "(9864, 17)\n",
      "(2466, 17)\n",
      "(9864,)\n",
      "(2466,)\n"
     ]
    }
   ],
   "source": [
    "print(X_train.shape)\n",
    "print(X_test.shape)\n",
    "print(y_train.shape)\n",
    "print(y_test.shape)"
   ]
  },
  {
   "cell_type": "code",
   "execution_count": 24,
   "id": "24839a9a",
   "metadata": {},
   "outputs": [],
   "source": [
    "num_pipeline=Pipeline(steps=[('imputer',SimpleImputer(strategy='median')),\n",
    "                            ('scale',StandardScaler())])\n",
    "cat_pipeline=Pipeline(steps=[('mputer',SimpleImputer(strategy='most_frequent')),\n",
    "                            ('encoder',OneHotEncoder())])\n",
    "preprocessor=ColumnTransformer([('numerical_pipe',num_pipeline,data_num),\n",
    "                               ('categorical_pipe',cat_pipeline,data_col)])"
   ]
  },
  {
   "cell_type": "code",
   "execution_count": 25,
   "id": "87462081",
   "metadata": {},
   "outputs": [],
   "source": [
    "X_train=preprocessor.fit_transform(X_train)\n",
    "X_test=preprocessor.transform(X_test)"
   ]
  },
  {
   "cell_type": "code",
   "execution_count": 29,
   "id": "dfe93736",
   "metadata": {},
   "outputs": [],
   "source": [
    "models={'RandomForest': RandomForestClassifier(),\n",
    "       'GradientBoost': GradientBoostingClassifier()}\n",
    "\n",
    "params={'RandomForest':{'n_estimators': [100,300,500],'max_depth':[15],'min_samples_split':[5],'random_state':[1]},\n",
    "       'GradientBoost':{'n_estimators': [100,300,500],'max_depth':[15],'min_samples_split' :[5],'random_state':[1]}}"
   ]
  },
  {
   "cell_type": "code",
   "execution_count": 35,
   "id": "fb7f11d0",
   "metadata": {},
   "outputs": [],
   "source": [
    "def evaluate_models(X_train,X_test,y_train,y_test,models,params):\n",
    "    report={}\n",
    "    for i in range(len(list(models))):\n",
    "        model=list(models.values())[i]\n",
    "        param=params[list(models.keys())[i]]\n",
    "        \n",
    "        gs=GridSearchCV(model,param,cv=3)\n",
    "        gs.fit(X_train,y_train)\n",
    "        \n",
    "        model.set_params(**gs.best_params_)\n",
    "        model.fit(X_train,y_train)\n",
    "        \n",
    "        y_test_pred=model.predict(X_test)\n",
    "        acc_score=accuracy_score(y_test,y_test_pred)\n",
    "        \n",
    "        print(f'{list(models.keys())[i]} :')\n",
    "        print(classification_report(y_test,y_test_pred))\n",
    "        \n",
    "        report[list(models.keys())[i]]=acc_score\n",
    "        \n",
    "        best_score=max(list(report.values()))\n",
    "        best_model=list(filter(lambda x:report[x]==best_score,report))[0]\n",
    "    print(f'The Best score of models:{best_model} : {best_score}')\n",
    "    return report\n",
    "        "
   ]
  },
  {
   "cell_type": "code",
   "execution_count": 36,
   "id": "a1e1ed59",
   "metadata": {},
   "outputs": [
    {
     "name": "stdout",
     "output_type": "stream",
     "text": [
      "RandomForest :\n",
      "              precision    recall  f1-score   support\n",
      "\n",
      "           0       0.92      0.96      0.94      2085\n",
      "           1       0.74      0.57      0.64       381\n",
      "\n",
      "    accuracy                           0.90      2466\n",
      "   macro avg       0.83      0.77      0.79      2466\n",
      "weighted avg       0.90      0.90      0.90      2466\n",
      "\n",
      "GradientBoost :\n",
      "              precision    recall  f1-score   support\n",
      "\n",
      "           0       0.92      0.96      0.94      2085\n",
      "           1       0.70      0.57      0.63       381\n",
      "\n",
      "    accuracy                           0.90      2466\n",
      "   macro avg       0.81      0.76      0.79      2466\n",
      "weighted avg       0.89      0.90      0.89      2466\n",
      "\n",
      "The Best score of models:RandomForest : 0.9022708840227088\n"
     ]
    },
    {
     "data": {
      "text/plain": [
       "{'RandomForest': 0.9022708840227088, 'GradientBoost': 0.8965936739659367}"
      ]
     },
     "execution_count": 36,
     "metadata": {},
     "output_type": "execute_result"
    }
   ],
   "source": [
    "evaluate_models(X_train,X_test,y_train,y_test,models,params)"
   ]
  },
  {
   "cell_type": "code",
   "execution_count": 46,
   "id": "9401c38e",
   "metadata": {},
   "outputs": [
    {
     "data": {
      "text/plain": [
       "GridSearchCV(cv=3,\n",
       "             estimator=RandomForestClassifier(max_depth=15, min_samples_split=5,\n",
       "                                              n_estimators=300,\n",
       "                                              random_state=1),\n",
       "             param_grid={'max_depth': [15], 'min_samples_split': [5],\n",
       "                         'n_estimators': [100, 300, 500], 'random_state': [1]})"
      ]
     },
     "execution_count": 46,
     "metadata": {},
     "output_type": "execute_result"
    }
   ],
   "source": [
    "best_mod=models['RandomForest']\n",
    "gs=GridSearchCV(best_mod,params['RandomForest'],cv=3)\n",
    "gs.fit(X_train,y_train)"
   ]
  },
  {
   "cell_type": "code",
   "execution_count": 49,
   "id": "0105209a",
   "metadata": {},
   "outputs": [
    {
     "data": {
      "text/plain": [
       "RandomForestClassifier(max_depth=15, min_samples_split=5, n_estimators=300,\n",
       "                       random_state=1)"
      ]
     },
     "execution_count": 49,
     "metadata": {},
     "output_type": "execute_result"
    }
   ],
   "source": [
    "best_mod.set_params(**gs.best_params_)\n",
    "best_mod.fit(X_train,y_train)"
   ]
  },
  {
   "cell_type": "code",
   "execution_count": 50,
   "id": "33a118a3",
   "metadata": {},
   "outputs": [],
   "source": [
    "y_pred=best_mod.predict(X_test)"
   ]
  },
  {
   "cell_type": "code",
   "execution_count": 53,
   "id": "345ab12e",
   "metadata": {},
   "outputs": [],
   "source": [
    "y_pred_new=le.inverse_transform(y_pred)"
   ]
  },
  {
   "cell_type": "code",
   "execution_count": 92,
   "id": "f85010ac",
   "metadata": {},
   "outputs": [],
   "source": [
    "revenue_new=pd.DataFrame(y_pred_new)\n",
    "revenue_new.columns=['revenue']\n",
    "X_set=pd.DataFrame(X_test)"
   ]
  },
  {
   "cell_type": "code",
   "execution_count": 94,
   "id": "a3072740",
   "metadata": {},
   "outputs": [],
   "source": [
    "df_new=pd.concat([X_set,revenue_new],axis='columns')"
   ]
  },
  {
   "cell_type": "code",
   "execution_count": 95,
   "id": "e875cd87",
   "metadata": {},
   "outputs": [
    {
     "data": {
      "text/plain": [
       "(2466, 29)"
      ]
     },
     "execution_count": 95,
     "metadata": {},
     "output_type": "execute_result"
    }
   ],
   "source": [
    "df_new.shape"
   ]
  },
  {
   "cell_type": "code",
   "execution_count": 96,
   "id": "dab8fac9",
   "metadata": {},
   "outputs": [
    {
     "data": {
      "text/html": [
       "<div>\n",
       "<style scoped>\n",
       "    .dataframe tbody tr th:only-of-type {\n",
       "        vertical-align: middle;\n",
       "    }\n",
       "\n",
       "    .dataframe tbody tr th {\n",
       "        vertical-align: top;\n",
       "    }\n",
       "\n",
       "    .dataframe thead th {\n",
       "        text-align: right;\n",
       "    }\n",
       "</style>\n",
       "<table border=\"1\" class=\"dataframe\">\n",
       "  <thead>\n",
       "    <tr style=\"text-align: right;\">\n",
       "      <th></th>\n",
       "      <th>0</th>\n",
       "      <th>1</th>\n",
       "      <th>2</th>\n",
       "      <th>3</th>\n",
       "      <th>4</th>\n",
       "      <th>5</th>\n",
       "      <th>6</th>\n",
       "      <th>7</th>\n",
       "      <th>8</th>\n",
       "      <th>9</th>\n",
       "      <th>...</th>\n",
       "      <th>19</th>\n",
       "      <th>20</th>\n",
       "      <th>21</th>\n",
       "      <th>22</th>\n",
       "      <th>23</th>\n",
       "      <th>24</th>\n",
       "      <th>25</th>\n",
       "      <th>26</th>\n",
       "      <th>27</th>\n",
       "      <th>revenue</th>\n",
       "    </tr>\n",
       "  </thead>\n",
       "  <tbody>\n",
       "    <tr>\n",
       "      <th>0</th>\n",
       "      <td>-0.398573</td>\n",
       "      <td>-0.428136</td>\n",
       "      <td>-0.401219</td>\n",
       "      <td>-0.244789</td>\n",
       "      <td>-0.544483</td>\n",
       "      <td>-0.523328</td>\n",
       "      <td>-0.457344</td>\n",
       "      <td>-0.690163</td>\n",
       "      <td>-0.311384</td>\n",
       "      <td>-0.307468</td>\n",
       "      <td>...</td>\n",
       "      <td>0.0</td>\n",
       "      <td>0.0</td>\n",
       "      <td>0.0</td>\n",
       "      <td>0.0</td>\n",
       "      <td>0.0</td>\n",
       "      <td>0.0</td>\n",
       "      <td>1.0</td>\n",
       "      <td>0.0</td>\n",
       "      <td>0.0</td>\n",
       "      <td>False</td>\n",
       "    </tr>\n",
       "    <tr>\n",
       "      <th>1</th>\n",
       "      <td>1.401576</td>\n",
       "      <td>0.651998</td>\n",
       "      <td>-0.401219</td>\n",
       "      <td>-0.244789</td>\n",
       "      <td>-0.269566</td>\n",
       "      <td>-0.199682</td>\n",
       "      <td>-0.457344</td>\n",
       "      <td>-0.829217</td>\n",
       "      <td>-0.311384</td>\n",
       "      <td>-0.307468</td>\n",
       "      <td>...</td>\n",
       "      <td>0.0</td>\n",
       "      <td>0.0</td>\n",
       "      <td>0.0</td>\n",
       "      <td>0.0</td>\n",
       "      <td>0.0</td>\n",
       "      <td>0.0</td>\n",
       "      <td>1.0</td>\n",
       "      <td>0.0</td>\n",
       "      <td>0.0</td>\n",
       "      <td>False</td>\n",
       "    </tr>\n",
       "    <tr>\n",
       "      <th>2</th>\n",
       "      <td>-0.698598</td>\n",
       "      <td>-0.456011</td>\n",
       "      <td>-0.401219</td>\n",
       "      <td>-0.244789</td>\n",
       "      <td>-0.177927</td>\n",
       "      <td>-0.308184</td>\n",
       "      <td>-0.113166</td>\n",
       "      <td>-0.342529</td>\n",
       "      <td>-0.311384</td>\n",
       "      <td>-0.307468</td>\n",
       "      <td>...</td>\n",
       "      <td>0.0</td>\n",
       "      <td>0.0</td>\n",
       "      <td>0.0</td>\n",
       "      <td>0.0</td>\n",
       "      <td>0.0</td>\n",
       "      <td>0.0</td>\n",
       "      <td>0.0</td>\n",
       "      <td>0.0</td>\n",
       "      <td>1.0</td>\n",
       "      <td>False</td>\n",
       "    </tr>\n",
       "    <tr>\n",
       "      <th>3</th>\n",
       "      <td>0.501502</td>\n",
       "      <td>-0.115943</td>\n",
       "      <td>-0.401219</td>\n",
       "      <td>-0.244789</td>\n",
       "      <td>1.952680</td>\n",
       "      <td>0.195309</td>\n",
       "      <td>-0.386743</td>\n",
       "      <td>-0.641785</td>\n",
       "      <td>2.343948</td>\n",
       "      <td>-0.307468</td>\n",
       "      <td>...</td>\n",
       "      <td>0.0</td>\n",
       "      <td>0.0</td>\n",
       "      <td>1.0</td>\n",
       "      <td>0.0</td>\n",
       "      <td>0.0</td>\n",
       "      <td>0.0</td>\n",
       "      <td>0.0</td>\n",
       "      <td>0.0</td>\n",
       "      <td>1.0</td>\n",
       "      <td>False</td>\n",
       "    </tr>\n",
       "    <tr>\n",
       "      <th>4</th>\n",
       "      <td>3.501751</td>\n",
       "      <td>6.579028</td>\n",
       "      <td>9.066771</td>\n",
       "      <td>6.654864</td>\n",
       "      <td>-0.040468</td>\n",
       "      <td>0.398332</td>\n",
       "      <td>-0.393659</td>\n",
       "      <td>-0.414293</td>\n",
       "      <td>-0.311384</td>\n",
       "      <td>2.721355</td>\n",
       "      <td>...</td>\n",
       "      <td>0.0</td>\n",
       "      <td>0.0</td>\n",
       "      <td>1.0</td>\n",
       "      <td>0.0</td>\n",
       "      <td>0.0</td>\n",
       "      <td>0.0</td>\n",
       "      <td>0.0</td>\n",
       "      <td>0.0</td>\n",
       "      <td>1.0</td>\n",
       "      <td>False</td>\n",
       "    </tr>\n",
       "  </tbody>\n",
       "</table>\n",
       "<p>5 rows × 29 columns</p>\n",
       "</div>"
      ],
      "text/plain": [
       "          0         1         2         3         4         5         6  \\\n",
       "0 -0.398573 -0.428136 -0.401219 -0.244789 -0.544483 -0.523328 -0.457344   \n",
       "1  1.401576  0.651998 -0.401219 -0.244789 -0.269566 -0.199682 -0.457344   \n",
       "2 -0.698598 -0.456011 -0.401219 -0.244789 -0.177927 -0.308184 -0.113166   \n",
       "3  0.501502 -0.115943 -0.401219 -0.244789  1.952680  0.195309 -0.386743   \n",
       "4  3.501751  6.579028  9.066771  6.654864 -0.040468  0.398332 -0.393659   \n",
       "\n",
       "          7         8         9  ...   19   20   21   22   23   24   25   26  \\\n",
       "0 -0.690163 -0.311384 -0.307468  ...  0.0  0.0  0.0  0.0  0.0  0.0  1.0  0.0   \n",
       "1 -0.829217 -0.311384 -0.307468  ...  0.0  0.0  0.0  0.0  0.0  0.0  1.0  0.0   \n",
       "2 -0.342529 -0.311384 -0.307468  ...  0.0  0.0  0.0  0.0  0.0  0.0  0.0  0.0   \n",
       "3 -0.641785  2.343948 -0.307468  ...  0.0  0.0  1.0  0.0  0.0  0.0  0.0  0.0   \n",
       "4 -0.414293 -0.311384  2.721355  ...  0.0  0.0  1.0  0.0  0.0  0.0  0.0  0.0   \n",
       "\n",
       "    27  revenue  \n",
       "0  0.0    False  \n",
       "1  0.0    False  \n",
       "2  1.0    False  \n",
       "3  1.0    False  \n",
       "4  1.0    False  \n",
       "\n",
       "[5 rows x 29 columns]"
      ]
     },
     "execution_count": 96,
     "metadata": {},
     "output_type": "execute_result"
    }
   ],
   "source": [
    "df_new.head()"
   ]
  },
  {
   "cell_type": "markdown",
   "id": "8363d471",
   "metadata": {},
   "source": [
    "predict the Revenue and whether that particular revenue is on the weekend or not"
   ]
  },
  {
   "cell_type": "code",
   "execution_count": 117,
   "id": "562aa69f",
   "metadata": {},
   "outputs": [],
   "source": [
    "ss=df_new.loc[df_new['revenue']==True]"
   ]
  },
  {
   "cell_type": "code",
   "execution_count": 125,
   "id": "a5b0c5a6",
   "metadata": {},
   "outputs": [
    {
     "data": {
      "text/html": [
       "<div>\n",
       "<style scoped>\n",
       "    .dataframe tbody tr th:only-of-type {\n",
       "        vertical-align: middle;\n",
       "    }\n",
       "\n",
       "    .dataframe tbody tr th {\n",
       "        vertical-align: top;\n",
       "    }\n",
       "\n",
       "    .dataframe thead th {\n",
       "        text-align: right;\n",
       "    }\n",
       "</style>\n",
       "<table border=\"1\" class=\"dataframe\">\n",
       "  <thead>\n",
       "    <tr style=\"text-align: right;\">\n",
       "      <th></th>\n",
       "      <th>0</th>\n",
       "      <th>1</th>\n",
       "      <th>2</th>\n",
       "      <th>3</th>\n",
       "      <th>4</th>\n",
       "      <th>5</th>\n",
       "      <th>6</th>\n",
       "      <th>7</th>\n",
       "      <th>8</th>\n",
       "      <th>9</th>\n",
       "      <th>...</th>\n",
       "      <th>19</th>\n",
       "      <th>20</th>\n",
       "      <th>21</th>\n",
       "      <th>22</th>\n",
       "      <th>23</th>\n",
       "      <th>24</th>\n",
       "      <th>25</th>\n",
       "      <th>26</th>\n",
       "      <th>27</th>\n",
       "      <th>revenue</th>\n",
       "    </tr>\n",
       "  </thead>\n",
       "  <tbody>\n",
       "    <tr>\n",
       "      <th>74</th>\n",
       "      <td>0.201477</td>\n",
       "      <td>0.207401</td>\n",
       "      <td>0.387781</td>\n",
       "      <td>0.357361</td>\n",
       "      <td>-0.155017</td>\n",
       "      <td>-0.412539</td>\n",
       "      <td>-0.457344</td>\n",
       "      <td>-0.616924</td>\n",
       "      <td>0.507228</td>\n",
       "      <td>-0.307468</td>\n",
       "      <td>...</td>\n",
       "      <td>0.0</td>\n",
       "      <td>0.0</td>\n",
       "      <td>1.0</td>\n",
       "      <td>0.0</td>\n",
       "      <td>0.0</td>\n",
       "      <td>0.0</td>\n",
       "      <td>0.0</td>\n",
       "      <td>0.0</td>\n",
       "      <td>1.0</td>\n",
       "      <td>True</td>\n",
       "    </tr>\n",
       "    <tr>\n",
       "      <th>81</th>\n",
       "      <td>0.501502</td>\n",
       "      <td>0.082523</td>\n",
       "      <td>-0.401219</td>\n",
       "      <td>-0.244789</td>\n",
       "      <td>-0.384115</td>\n",
       "      <td>-0.484562</td>\n",
       "      <td>-0.239968</td>\n",
       "      <td>-0.452524</td>\n",
       "      <td>3.380899</td>\n",
       "      <td>-0.307468</td>\n",
       "      <td>...</td>\n",
       "      <td>0.0</td>\n",
       "      <td>0.0</td>\n",
       "      <td>0.0</td>\n",
       "      <td>0.0</td>\n",
       "      <td>1.0</td>\n",
       "      <td>0.0</td>\n",
       "      <td>0.0</td>\n",
       "      <td>0.0</td>\n",
       "      <td>1.0</td>\n",
       "      <td>True</td>\n",
       "    </tr>\n",
       "    <tr>\n",
       "      <th>83</th>\n",
       "      <td>-0.698598</td>\n",
       "      <td>-0.456011</td>\n",
       "      <td>-0.401219</td>\n",
       "      <td>-0.244789</td>\n",
       "      <td>-0.498663</td>\n",
       "      <td>-0.561620</td>\n",
       "      <td>0.689915</td>\n",
       "      <td>0.831247</td>\n",
       "      <td>1.105803</td>\n",
       "      <td>-0.307468</td>\n",
       "      <td>...</td>\n",
       "      <td>0.0</td>\n",
       "      <td>1.0</td>\n",
       "      <td>0.0</td>\n",
       "      <td>0.0</td>\n",
       "      <td>0.0</td>\n",
       "      <td>0.0</td>\n",
       "      <td>0.0</td>\n",
       "      <td>0.0</td>\n",
       "      <td>1.0</td>\n",
       "      <td>True</td>\n",
       "    </tr>\n",
       "    <tr>\n",
       "      <th>92</th>\n",
       "      <td>2.901701</td>\n",
       "      <td>5.279616</td>\n",
       "      <td>0.387781</td>\n",
       "      <td>-0.223784</td>\n",
       "      <td>2.823251</td>\n",
       "      <td>2.942309</td>\n",
       "      <td>-0.406354</td>\n",
       "      <td>-0.566428</td>\n",
       "      <td>-0.113299</td>\n",
       "      <td>-0.307468</td>\n",
       "      <td>...</td>\n",
       "      <td>0.0</td>\n",
       "      <td>0.0</td>\n",
       "      <td>0.0</td>\n",
       "      <td>1.0</td>\n",
       "      <td>0.0</td>\n",
       "      <td>0.0</td>\n",
       "      <td>0.0</td>\n",
       "      <td>0.0</td>\n",
       "      <td>1.0</td>\n",
       "      <td>True</td>\n",
       "    </tr>\n",
       "    <tr>\n",
       "      <th>101</th>\n",
       "      <td>-0.698598</td>\n",
       "      <td>-0.456011</td>\n",
       "      <td>-0.401219</td>\n",
       "      <td>-0.244789</td>\n",
       "      <td>-0.246656</td>\n",
       "      <td>-0.057579</td>\n",
       "      <td>-0.457344</td>\n",
       "      <td>-0.669499</td>\n",
       "      <td>0.547527</td>\n",
       "      <td>-0.307468</td>\n",
       "      <td>...</td>\n",
       "      <td>0.0</td>\n",
       "      <td>0.0</td>\n",
       "      <td>0.0</td>\n",
       "      <td>1.0</td>\n",
       "      <td>0.0</td>\n",
       "      <td>0.0</td>\n",
       "      <td>0.0</td>\n",
       "      <td>0.0</td>\n",
       "      <td>1.0</td>\n",
       "      <td>True</td>\n",
       "    </tr>\n",
       "  </tbody>\n",
       "</table>\n",
       "<p>5 rows × 29 columns</p>\n",
       "</div>"
      ],
      "text/plain": [
       "            0         1         2         3         4         5         6  \\\n",
       "74   0.201477  0.207401  0.387781  0.357361 -0.155017 -0.412539 -0.457344   \n",
       "81   0.501502  0.082523 -0.401219 -0.244789 -0.384115 -0.484562 -0.239968   \n",
       "83  -0.698598 -0.456011 -0.401219 -0.244789 -0.498663 -0.561620  0.689915   \n",
       "92   2.901701  5.279616  0.387781 -0.223784  2.823251  2.942309 -0.406354   \n",
       "101 -0.698598 -0.456011 -0.401219 -0.244789 -0.246656 -0.057579 -0.457344   \n",
       "\n",
       "            7         8         9  ...   19   20   21   22   23   24   25  \\\n",
       "74  -0.616924  0.507228 -0.307468  ...  0.0  0.0  1.0  0.0  0.0  0.0  0.0   \n",
       "81  -0.452524  3.380899 -0.307468  ...  0.0  0.0  0.0  0.0  1.0  0.0  0.0   \n",
       "83   0.831247  1.105803 -0.307468  ...  0.0  1.0  0.0  0.0  0.0  0.0  0.0   \n",
       "92  -0.566428 -0.113299 -0.307468  ...  0.0  0.0  0.0  1.0  0.0  0.0  0.0   \n",
       "101 -0.669499  0.547527 -0.307468  ...  0.0  0.0  0.0  1.0  0.0  0.0  0.0   \n",
       "\n",
       "      26   27  revenue  \n",
       "74   0.0  1.0     True  \n",
       "81   0.0  1.0     True  \n",
       "83   0.0  1.0     True  \n",
       "92   0.0  1.0     True  \n",
       "101  0.0  1.0     True  \n",
       "\n",
       "[5 rows x 29 columns]"
      ]
     },
     "execution_count": 125,
     "metadata": {},
     "output_type": "execute_result"
    }
   ],
   "source": [
    "pred_value=ss.loc[ss[27]==1]\n",
    "pred_value.head()"
   ]
  },
  {
   "cell_type": "markdown",
   "id": "e253a66b",
   "metadata": {},
   "source": []
  },
  {
   "cell_type": "code",
   "execution_count": null,
   "id": "9c201417",
   "metadata": {},
   "outputs": [],
   "source": []
  }
 ],
 "metadata": {
  "kernelspec": {
   "display_name": "Python 3 (ipykernel)",
   "language": "python",
   "name": "python3"
  },
  "language_info": {
   "codemirror_mode": {
    "name": "ipython",
    "version": 3
   },
   "file_extension": ".py",
   "mimetype": "text/x-python",
   "name": "python",
   "nbconvert_exporter": "python",
   "pygments_lexer": "ipython3",
   "version": "3.9.13"
  }
 },
 "nbformat": 4,
 "nbformat_minor": 5
}
